{
 "cells": [
  {
   "cell_type": "code",
   "execution_count": 1,
   "metadata": {
    "vscode": {
     "languageId": "r"
    }
   },
   "outputs": [
    {
     "name": "stderr",
     "output_type": "stream",
     "text": [
      "\n",
      "Attaching package: 'dplyr'\n",
      "\n",
      "\n",
      "The following objects are masked from 'package:data.table':\n",
      "\n",
      "    between, first, last\n",
      "\n",
      "\n",
      "The following objects are masked from 'package:stats':\n",
      "\n",
      "    filter, lag\n",
      "\n",
      "\n",
      "The following objects are masked from 'package:base':\n",
      "\n",
      "    intersect, setdiff, setequal, union\n",
      "\n",
      "\n"
     ]
    }
   ],
   "source": [
    "library(data.table)\n",
    "library(stringr)\n",
    "library(dplyr)\n",
    "library(ggplot2)"
   ]
  },
  {
   "cell_type": "code",
   "execution_count": 2,
   "metadata": {
    "vscode": {
     "languageId": "r"
    }
   },
   "outputs": [
    {
     "data": {
      "text/html": [
       "<table class=\"dataframe\">\n",
       "<caption>A data.frame: 6 x 22</caption>\n",
       "<thead>\n",
       "\t<tr><th></th><th scope=col>sample_id</th><th scope=col>computed_gender</th><th scope=col>chrom</th><th scope=col>beg_GRCh38</th><th scope=col>end_GRCh38</th><th scope=col>length</th><th scope=col>p_arm</th><th scope=col>q_arm</th><th scope=col>n_sites</th><th scope=col>n_hets</th><th scope=col>...</th><th scope=col>bdev_se</th><th scope=col>rel_cov</th><th scope=col>rel_cov_se</th><th scope=col>lod_lrr_baf</th><th scope=col>lod_baf_phase</th><th scope=col>n_flips</th><th scope=col>baf_conc</th><th scope=col>lod_baf_conc</th><th scope=col>type</th><th scope=col>cf</th></tr>\n",
       "\t<tr><th></th><th scope=col>&lt;chr&gt;</th><th scope=col>&lt;chr&gt;</th><th scope=col>&lt;chr&gt;</th><th scope=col>&lt;int&gt;</th><th scope=col>&lt;int&gt;</th><th scope=col>&lt;int&gt;</th><th scope=col>&lt;chr&gt;</th><th scope=col>&lt;chr&gt;</th><th scope=col>&lt;int&gt;</th><th scope=col>&lt;int&gt;</th><th scope=col>...</th><th scope=col>&lt;dbl&gt;</th><th scope=col>&lt;dbl&gt;</th><th scope=col>&lt;dbl&gt;</th><th scope=col>&lt;dbl&gt;</th><th scope=col>&lt;dbl&gt;</th><th scope=col>&lt;int&gt;</th><th scope=col>&lt;dbl&gt;</th><th scope=col>&lt;dbl&gt;</th><th scope=col>&lt;chr&gt;</th><th scope=col>&lt;dbl&gt;</th></tr>\n",
       "</thead>\n",
       "<tbody>\n",
       "\t<tr><th scope=row>1</th><td>CW60054</td><td>M</td><td>chr1</td><td> 34636186</td><td> 34645953</td><td>  9767</td><td>Y</td><td>N</td><td>21</td><td>0</td><td>...</td><td>NaN</td><td>1.0966</td><td>0.0645</td><td>13.80</td><td>  NaN</td><td>-1</td><td>NaN</td><td>0.0</td><td>CNP_Loss</td><td>NaN</td></tr>\n",
       "\t<tr><th scope=row>2</th><td>CW60054</td><td>M</td><td>chr1</td><td>110834341</td><td>110845334</td><td> 10993</td><td>Y</td><td>N</td><td>25</td><td>0</td><td>...</td><td>NaN</td><td>1.0580</td><td>0.0637</td><td>17.49</td><td>  NaN</td><td>-1</td><td>NaN</td><td>0.0</td><td>CNP_Loss</td><td>NaN</td></tr>\n",
       "\t<tr><th scope=row>3</th><td>CW60054</td><td>M</td><td>chr1</td><td>152788067</td><td>152798400</td><td> 10333</td><td>N</td><td>Y</td><td>24</td><td>0</td><td>...</td><td>NaN</td><td>1.1658</td><td>0.0638</td><td>14.08</td><td>  NaN</td><td>-1</td><td>NaN</td><td>0.0</td><td>CNP_Loss</td><td>NaN</td></tr>\n",
       "\t<tr><th scope=row>4</th><td>CW60054</td><td>M</td><td>chr1</td><td>212829029</td><td>212840271</td><td> 11242</td><td>N</td><td>Y</td><td>25</td><td>1</td><td>...</td><td>NaN</td><td>1.1634</td><td>0.0443</td><td>13.13</td><td>  NaN</td><td>-1</td><td>NaN</td><td>0.0</td><td>CNP_Loss</td><td>NaN</td></tr>\n",
       "\t<tr><th scope=row>5</th><td>CW60054</td><td>M</td><td>chr1</td><td>241569718</td><td>241580526</td><td> 10808</td><td>N</td><td>Y</td><td>23</td><td>0</td><td>...</td><td>NaN</td><td>1.1552</td><td>0.0476</td><td>12.82</td><td>  NaN</td><td>-1</td><td>NaN</td><td>0.0</td><td>CNP_Loss</td><td>NaN</td></tr>\n",
       "\t<tr><th scope=row>6</th><td>CW60054</td><td>M</td><td>chr1</td><td> 13226385</td><td> 13370316</td><td>143931</td><td>Y</td><td>N</td><td>40</td><td>8</td><td>...</td><td>NaN</td><td>3.1322</td><td>0.1738</td><td>21.35</td><td>10.55</td><td>-1</td><td>  1</td><td>2.1</td><td>Gain    </td><td>  1</td></tr>\n",
       "</tbody>\n",
       "</table>\n"
      ],
      "text/latex": [
       "A data.frame: 6 x 22\n",
       "\\begin{tabular}{r|lllllllllllllllllllll}\n",
       "  & sample\\_id & computed\\_gender & chrom & beg\\_GRCh38 & end\\_GRCh38 & length & p\\_arm & q\\_arm & n\\_sites & n\\_hets & ... & bdev\\_se & rel\\_cov & rel\\_cov\\_se & lod\\_lrr\\_baf & lod\\_baf\\_phase & n\\_flips & baf\\_conc & lod\\_baf\\_conc & type & cf\\\\\n",
       "  & <chr> & <chr> & <chr> & <int> & <int> & <int> & <chr> & <chr> & <int> & <int> & ... & <dbl> & <dbl> & <dbl> & <dbl> & <dbl> & <int> & <dbl> & <dbl> & <chr> & <dbl>\\\\\n",
       "\\hline\n",
       "\t1 & CW60054 & M & chr1 &  34636186 &  34645953 &   9767 & Y & N & 21 & 0 & ... & NaN & 1.0966 & 0.0645 & 13.80 &   NaN & -1 & NaN & 0.0 & CNP\\_Loss & NaN\\\\\n",
       "\t2 & CW60054 & M & chr1 & 110834341 & 110845334 &  10993 & Y & N & 25 & 0 & ... & NaN & 1.0580 & 0.0637 & 17.49 &   NaN & -1 & NaN & 0.0 & CNP\\_Loss & NaN\\\\\n",
       "\t3 & CW60054 & M & chr1 & 152788067 & 152798400 &  10333 & N & Y & 24 & 0 & ... & NaN & 1.1658 & 0.0638 & 14.08 &   NaN & -1 & NaN & 0.0 & CNP\\_Loss & NaN\\\\\n",
       "\t4 & CW60054 & M & chr1 & 212829029 & 212840271 &  11242 & N & Y & 25 & 1 & ... & NaN & 1.1634 & 0.0443 & 13.13 &   NaN & -1 & NaN & 0.0 & CNP\\_Loss & NaN\\\\\n",
       "\t5 & CW60054 & M & chr1 & 241569718 & 241580526 &  10808 & N & Y & 23 & 0 & ... & NaN & 1.1552 & 0.0476 & 12.82 &   NaN & -1 & NaN & 0.0 & CNP\\_Loss & NaN\\\\\n",
       "\t6 & CW60054 & M & chr1 &  13226385 &  13370316 & 143931 & Y & N & 40 & 8 & ... & NaN & 3.1322 & 0.1738 & 21.35 & 10.55 & -1 &   1 & 2.1 & Gain     &   1\\\\\n",
       "\\end{tabular}\n"
      ],
      "text/markdown": [
       "\n",
       "A data.frame: 6 x 22\n",
       "\n",
       "| <!--/--> | sample_id &lt;chr&gt; | computed_gender &lt;chr&gt; | chrom &lt;chr&gt; | beg_GRCh38 &lt;int&gt; | end_GRCh38 &lt;int&gt; | length &lt;int&gt; | p_arm &lt;chr&gt; | q_arm &lt;chr&gt; | n_sites &lt;int&gt; | n_hets &lt;int&gt; | ... ... | bdev_se &lt;dbl&gt; | rel_cov &lt;dbl&gt; | rel_cov_se &lt;dbl&gt; | lod_lrr_baf &lt;dbl&gt; | lod_baf_phase &lt;dbl&gt; | n_flips &lt;int&gt; | baf_conc &lt;dbl&gt; | lod_baf_conc &lt;dbl&gt; | type &lt;chr&gt; | cf &lt;dbl&gt; |\n",
       "|---|---|---|---|---|---|---|---|---|---|---|---|---|---|---|---|---|---|---|---|---|---|\n",
       "| 1 | CW60054 | M | chr1 |  34636186 |  34645953 |   9767 | Y | N | 21 | 0 | ... | NaN | 1.0966 | 0.0645 | 13.80 |   NaN | -1 | NaN | 0.0 | CNP_Loss | NaN |\n",
       "| 2 | CW60054 | M | chr1 | 110834341 | 110845334 |  10993 | Y | N | 25 | 0 | ... | NaN | 1.0580 | 0.0637 | 17.49 |   NaN | -1 | NaN | 0.0 | CNP_Loss | NaN |\n",
       "| 3 | CW60054 | M | chr1 | 152788067 | 152798400 |  10333 | N | Y | 24 | 0 | ... | NaN | 1.1658 | 0.0638 | 14.08 |   NaN | -1 | NaN | 0.0 | CNP_Loss | NaN |\n",
       "| 4 | CW60054 | M | chr1 | 212829029 | 212840271 |  11242 | N | Y | 25 | 1 | ... | NaN | 1.1634 | 0.0443 | 13.13 |   NaN | -1 | NaN | 0.0 | CNP_Loss | NaN |\n",
       "| 5 | CW60054 | M | chr1 | 241569718 | 241580526 |  10808 | N | Y | 23 | 0 | ... | NaN | 1.1552 | 0.0476 | 12.82 |   NaN | -1 | NaN | 0.0 | CNP_Loss | NaN |\n",
       "| 6 | CW60054 | M | chr1 |  13226385 |  13370316 | 143931 | Y | N | 40 | 8 | ... | NaN | 3.1322 | 0.1738 | 21.35 | 10.55 | -1 |   1 | 2.1 | Gain     |   1 |\n",
       "\n"
      ],
      "text/plain": [
       "  sample_id computed_gender chrom beg_GRCh38 end_GRCh38 length p_arm q_arm\n",
       "1 CW60054   M               chr1   34636186   34645953    9767 Y     N    \n",
       "2 CW60054   M               chr1  110834341  110845334   10993 Y     N    \n",
       "3 CW60054   M               chr1  152788067  152798400   10333 N     Y    \n",
       "4 CW60054   M               chr1  212829029  212840271   11242 N     Y    \n",
       "5 CW60054   M               chr1  241569718  241580526   10808 N     Y    \n",
       "6 CW60054   M               chr1   13226385   13370316  143931 Y     N    \n",
       "  n_sites n_hets ... bdev_se rel_cov rel_cov_se lod_lrr_baf lod_baf_phase\n",
       "1 21      0      ... NaN     1.0966  0.0645     13.80         NaN        \n",
       "2 25      0      ... NaN     1.0580  0.0637     17.49         NaN        \n",
       "3 24      0      ... NaN     1.1658  0.0638     14.08         NaN        \n",
       "4 25      1      ... NaN     1.1634  0.0443     13.13         NaN        \n",
       "5 23      0      ... NaN     1.1552  0.0476     12.82         NaN        \n",
       "6 40      8      ... NaN     3.1322  0.1738     21.35       10.55        \n",
       "  n_flips baf_conc lod_baf_conc type     cf \n",
       "1 -1      NaN      0.0          CNP_Loss NaN\n",
       "2 -1      NaN      0.0          CNP_Loss NaN\n",
       "3 -1      NaN      0.0          CNP_Loss NaN\n",
       "4 -1      NaN      0.0          CNP_Loss NaN\n",
       "5 -1      NaN      0.0          CNP_Loss NaN\n",
       "6 -1        1      2.1          Gain       1"
      ]
     },
     "metadata": {},
     "output_type": "display_data"
    }
   ],
   "source": [
    "calls_df <- read.table(\"/stanley/stemcell/concordance/ground_truth/SCBB_CIRM_McLean_Levy_WGS/v2/mocha/SCBB_CIRM_ML_WGS.calls.tsv\",sep=\"\\t\",header=T)\n",
    "head(calls_df)"
   ]
  },
  {
   "cell_type": "code",
   "execution_count": 10,
   "metadata": {
    "vscode": {
     "languageId": "r"
    }
   },
   "outputs": [
    {
     "data": {
      "text/html": [
       "<table class=\"dataframe\">\n",
       "<caption>A data.frame: 4 x 7</caption>\n",
       "<thead>\n",
       "\t<tr><th scope=col>window_min_mb</th><th scope=col>count</th><th scope=col>gain</th><th scope=col>loss</th><th scope=col>unique_donors</th><th scope=col>cirm</th><th scope=col>ml</th></tr>\n",
       "\t<tr><th scope=col>&lt;dbl&gt;</th><th scope=col>&lt;dbl&gt;</th><th scope=col>&lt;dbl&gt;</th><th scope=col>&lt;dbl&gt;</th><th scope=col>&lt;dbl&gt;</th><th scope=col>&lt;dbl&gt;</th><th scope=col>&lt;dbl&gt;</th></tr>\n",
       "</thead>\n",
       "<tbody>\n",
       "\t<tr><td> 0.5</td><td> 54</td><td> 54</td><td>0</td><td> 44</td><td> 31</td><td>13</td></tr>\n",
       "\t<tr><td> 1.0</td><td>172</td><td>172</td><td>0</td><td>153</td><td>128</td><td>25</td></tr>\n",
       "\t<tr><td> 5.0</td><td> 11</td><td> 11</td><td>0</td><td> 11</td><td>  5</td><td> 6</td></tr>\n",
       "\t<tr><td>50.0</td><td>  0</td><td>  0</td><td>0</td><td>  0</td><td>  0</td><td> 0</td></tr>\n",
       "</tbody>\n",
       "</table>\n"
      ],
      "text/latex": [
       "A data.frame: 4 x 7\n",
       "\\begin{tabular}{lllllll}\n",
       " window\\_min\\_mb & count & gain & loss & unique\\_donors & cirm & ml\\\\\n",
       " <dbl> & <dbl> & <dbl> & <dbl> & <dbl> & <dbl> & <dbl>\\\\\n",
       "\\hline\n",
       "\t  0.5 &  54 &  54 & 0 &  44 &  31 & 13\\\\\n",
       "\t  1.0 & 172 & 172 & 0 & 153 & 128 & 25\\\\\n",
       "\t  5.0 &  11 &  11 & 0 &  11 &   5 &  6\\\\\n",
       "\t 50.0 &   0 &   0 & 0 &   0 &   0 &  0\\\\\n",
       "\\end{tabular}\n"
      ],
      "text/markdown": [
       "\n",
       "A data.frame: 4 x 7\n",
       "\n",
       "| window_min_mb &lt;dbl&gt; | count &lt;dbl&gt; | gain &lt;dbl&gt; | loss &lt;dbl&gt; | unique_donors &lt;dbl&gt; | cirm &lt;dbl&gt; | ml &lt;dbl&gt; |\n",
       "|---|---|---|---|---|---|---|\n",
       "|  0.5 |  54 |  54 | 0 |  44 |  31 | 13 |\n",
       "|  1.0 | 172 | 172 | 0 | 153 | 128 | 25 |\n",
       "|  5.0 |  11 |  11 | 0 |  11 |   5 |  6 |\n",
       "| 50.0 |   0 |   0 | 0 |   0 |   0 |  0 |\n",
       "\n"
      ],
      "text/plain": [
       "  window_min_mb count gain loss unique_donors cirm ml\n",
       "1  0.5           54    54  0     44            31  13\n",
       "2  1.0          172   172  0    153           128  25\n",
       "3  5.0           11    11  0     11             5   6\n",
       "4 50.0            0     0  0      0             0   0"
      ]
     },
     "metadata": {},
     "output_type": "display_data"
    },
    {
     "data": {
      "text/html": [
       "<style>\n",
       ".dl-inline {width: auto; margin:0; padding: 0}\n",
       ".dl-inline>dt, .dl-inline>dd {float: none; width: auto; display: inline-block}\n",
       ".dl-inline>dt::after {content: \":\\0020\"; padding-right: .5ex}\n",
       ".dl-inline>dt:not(:first-of-type) {padding-left: .5ex}\n",
       "</style><dl class=dl-inline><dt>window_min_mb</dt><dd>56.5</dd><dt>count</dt><dd>237</dd><dt>gain</dt><dd>237</dd><dt>loss</dt><dd>0</dd><dt>unique_donors</dt><dd>208</dd><dt>cirm</dt><dd>164</dd><dt>ml</dt><dd>44</dd></dl>\n"
      ],
      "text/latex": [
       "\\begin{description*}\n",
       "\\item[window\\textbackslash{}\\_min\\textbackslash{}\\_mb] 56.5\n",
       "\\item[count] 237\n",
       "\\item[gain] 237\n",
       "\\item[loss] 0\n",
       "\\item[unique\\textbackslash{}\\_donors] 208\n",
       "\\item[cirm] 164\n",
       "\\item[ml] 44\n",
       "\\end{description*}\n"
      ],
      "text/markdown": [
       "window_min_mb\n",
       ":   56.5count\n",
       ":   237gain\n",
       ":   237loss\n",
       ":   0unique_donors\n",
       ":   208cirm\n",
       ":   164ml\n",
       ":   44\n",
       "\n"
      ],
      "text/plain": [
       "window_min_mb         count          gain          loss unique_donors \n",
       "         56.5         237.0         237.0           0.0         208.0 \n",
       "         cirm            ml \n",
       "        164.0          44.0 "
      ]
     },
     "metadata": {},
     "output_type": "display_data"
    }
   ],
   "source": [
    "flag_calls <- function(calls,omit_15q=TRUE) {\n",
    "    flagged_calls <- calls[calls$length>5e5 & calls$cf==1 & calls$rel_cov>2.5 & !is.na(calls$lod_baf_phase)  & calls$lod_baf_phase<10 & !is.na(calls$cf),]\n",
    "    if (omit_15q) {\n",
    "        flagged_calls <- flagged_calls[!(flagged_calls$chrom==\"chr15\" & flagged_calls$q_arm==\"Y\"),]\n",
    "    }\n",
    "    flagged_calls$cohort <- ifelse(startsWith(flagged_calls$sample_id,\"CW\"),\"CIRM\",\"McLean-Levy\")\n",
    "    return(flagged_calls)\n",
    "}\n",
    "summarize_types <- function(calls,.omit_15q=TRUE) {\n",
    "    # filter calls to only major CNV events that are not mosaic\n",
    "    flagged_calls <- flag_calls(calls,omit_15q=.omit_15q)\n",
    "\n",
    "    window_breaks<-c(5e5,1e6,5e6,50e6)\n",
    "\n",
    "    summary_df <- data.frame(window_min_mb=window_breaks/1e6)\n",
    "    summary_df$count <- numeric(length(window_breaks))\n",
    "    summary_df$gain <- numeric(length(window_breaks))\n",
    "    summary_df$loss <- numeric(length(window_breaks))\n",
    "    summary_df$unique_donors <- numeric(length(window_breaks))\n",
    "    summary_df$cirm <- numeric(length(window_breaks))\n",
    "    summary_df$ml <- numeric(length(window_breaks))\n",
    "\n",
    "    for (i in seq_along(window_breaks)) {\n",
    "        if(is.na(window_breaks[i+1])) {\n",
    "            # if we are at the maximum window (e.g., > 50Mb)\n",
    "            summary_df[i,\"count\"] <- nrow(flagged_calls[flagged_calls$length>window_breaks[i],])\n",
    "            summary_df[i,\"gain\"] <- nrow(flagged_calls[flagged_calls$length>window_breaks[i] & flagged_calls$type==\"Gain\",])\n",
    "            summary_df[i,\"loss\"] <- nrow(flagged_calls[flagged_calls$length>window_breaks[i] & flagged_calls$type==\"Loss\",])\n",
    "            summary_df[i,\"unique_donors\"] <- length(unique(flagged_calls[flagged_calls$length>window_breaks[i],\"sample_id\"]))\n",
    "            summary_df[i,\"cirm\"] <- length(unique(flagged_calls[flagged_calls$length>window_breaks[i] & flagged_calls$cohort==\"CIRM\",\"sample_id\"]))\n",
    "            summary_df[i,\"ml\"] <- length(unique(flagged_calls[flagged_calls$length>window_breaks[i] & flagged_calls$cohort==\"McLean-Levy\",\"sample_id\"]))\n",
    "        } else {\n",
    "            # if we are not at the maximum window (<50Mb)\n",
    "            summary_df[i,\"count\"] <- nrow(flagged_calls[flagged_calls$length>window_breaks[i] & flagged_calls$length<window_breaks[i+1],])\n",
    "            summary_df[i,\"gain\"] <- nrow(flagged_calls[flagged_calls$length>window_breaks[i] & flagged_calls$length<window_breaks[i+1] & flagged_calls$type==\"Gain\",])\n",
    "            summary_df[i,\"loss\"] <- nrow(flagged_calls[flagged_calls$length>window_breaks[i] & flagged_calls$length<window_breaks[i+1] & flagged_calls$type==\"Loss\",])\n",
    "            summary_df[i,\"unique_donors\"] <- length(unique(flagged_calls[flagged_calls$length>window_breaks[i] & flagged_calls$length<window_breaks[i+1],\"sample_id\"]))\n",
    "            summary_df[i,\"cirm\"] <- length(unique(flagged_calls[flagged_calls$length>window_breaks[i] & flagged_calls$length<window_breaks[i+1] & flagged_calls$cohort==\"CIRM\",\"sample_id\"]))\n",
    "            summary_df[i,\"ml\"] <- length(unique(flagged_calls[flagged_calls$length>window_breaks[i] & flagged_calls$length<window_breaks[i+1] & flagged_calls$cohort==\"McLean-Levy\",\"sample_id\"]))\n",
    "        }\n",
    "    }\n",
    "    return(summary_df)\n",
    "}\n",
    "cnv_lengths_plot <- function(flagged_calls) {\n",
    "    yval=-10\n",
    "    p<- ggplot(flagged_calls,aes(x=log10(length))) +\n",
    "            geom_histogram() +\n",
    "            labs(y=\"count\") +\n",
    "            theme_minimal() +\n",
    "            geom_vline(xintercept=log10(5e5),linetype=\"dashed\",color=\"red\") +\n",
    "            annotate(\"text\",x=log10(5e5), label=\"\\n0.5Mb\", y=yval, colour=\"red\", angle=90) +\n",
    "            geom_vline(xintercept=log10(1e6),linetype=\"dashed\",color=\"red\") +\n",
    "            annotate(\"text\",x=log10(1e6), label=\"\\n1Mb\", y=yval, colour=\"red\", angle=90) +\n",
    "            geom_vline(xintercept=log10(5e6),linetype=\"dashed\",color=\"red\") +\n",
    "            annotate(\"text\",x=log10(5e6), label=\"\\n5Mb\", y=yval, colour=\"red\", angle=90) +\n",
    "            geom_vline(xintercept=log10(50e6),linetype=\"dashed\",color=\"red\") +\n",
    "            annotate(\"text\",x=log10(50e6), label=\"\\n50Mb\", y=yval, colour=\"red\", angle=90)\n",
    "    return(p)\n",
    "}\n",
    "summary_df <- summarize_types(calls_df)\n",
    "summary_df\n",
    "colSums(summary_df)"
   ]
  },
  {
   "cell_type": "code",
   "execution_count": 21,
   "metadata": {
    "vscode": {
     "languageId": "r"
    }
   },
   "outputs": [
    {
     "data": {
      "text/html": [
       "153"
      ],
      "text/latex": [
       "153"
      ],
      "text/markdown": [
       "153"
      ],
      "text/plain": [
       "[1] 153"
      ]
     },
     "metadata": {},
     "output_type": "display_data"
    },
    {
     "data": {
      "text/html": [
       "29"
      ],
      "text/latex": [
       "29"
      ],
      "text/markdown": [
       "29"
      ],
      "text/plain": [
       "[1] 29"
      ]
     },
     "metadata": {},
     "output_type": "display_data"
    },
    {
     "data": {
      "text/html": [
       "182"
      ],
      "text/latex": [
       "182"
      ],
      "text/markdown": [
       "182"
      ],
      "text/plain": [
       "[1] 182"
      ]
     },
     "metadata": {},
     "output_type": "display_data"
    }
   ],
   "source": [
    "length(unique(flagged_calls[flagged_calls$cohort==\"CIRM\",\"sample_id\"]))\n",
    "length(unique(flagged_calls[flagged_calls$cohort==\"McLean-Levy\",\"sample_id\"]))\n",
    "length(unique(flagged_calls$sample_id))"
   ]
  },
  {
   "cell_type": "code",
   "execution_count": 17,
   "metadata": {
    "vscode": {
     "languageId": "r"
    }
   },
   "outputs": [
    {
     "name": "stderr",
     "output_type": "stream",
     "text": [
      "\u001b[1m\u001b[22m`stat_bin()` using `bins = 30`. Pick better value with `binwidth`.\n",
      "\u001b[1m\u001b[22m`stat_bin()` using `bins = 30`. Pick better value with `binwidth`.\n"
     ]
    },
    {
     "data": {
      "image/png": "[encoded data removed]",
      "text/plain": [
       "plot without title"
      ]
     },
     "metadata": {
      "image/png": {
       "height": 420,
       "width": 420
      }
     },
     "output_type": "display_data"
    },
    {
     "data": {
      "image/png": "[encoded data removed]",
      "text/plain": [
       "plot without title"
      ]
     },
     "metadata": {
      "image/png": {
       "height": 420,
       "width": 420
      }
     },
     "output_type": "display_data"
    }
   ],
   "source": [
    "flagged_calls <- flag_calls(calls_df)\n",
    "cnv_lengths_plot(flagged_calls)\n",
    "no_15q <- flagged_calls[!(flagged_calls$chrom==\"chr15\" & flagged_calls$q_arm==\"Y\"),]\n",
    "cnv_lengths_plot(no_15q)"
   ]
  },
  {
   "cell_type": "code",
   "execution_count": 19,
   "metadata": {
    "vscode": {
     "languageId": "r"
    }
   },
   "outputs": [
    {
     "name": "stderr",
     "output_type": "stream",
     "text": [
      "\u001b[1m\u001b[22m`stat_bin()` using `bins = 30`. Pick better value with `binwidth`.\n"
     ]
    },
    {
     "data": {
      "image/png": "[encoded data removed]",
      "text/plain": [
       "plot without title"
      ]
     },
     "metadata": {
      "image/png": {
       "height": 420,
       "width": 420
      }
     },
     "output_type": "display_data"
    }
   ],
   "source": [
    "donor_cnvs <- data.frame(donor=unique(flagged_calls$sample_id))\n",
    "donor_cnvs <- flagged_calls %>%\n",
    "                    group_by(sample_id) %>%\n",
    "                    summarize(n_cnvs=n())\n",
    "\n",
    "ggplot(donor_cnvs,aes(x=n_cnvs)) +\n",
    "    geom_histogram() +\n",
    "    labs(x=\"# CNVs per donor\")"
   ]
  },
  {
   "cell_type": "code",
   "execution_count": 26,
   "metadata": {
    "vscode": {
     "languageId": "r"
    }
   },
   "outputs": [],
   "source": [
    "# head(flagged_calls)\n",
    "# subset(flagged_calls,select=-cohort)\n",
    "write.table(subset(flagged_calls,select=-cohort),\"/stanley/stemcell/concordance/ground_truth/SCBB_CIRM_McLean_Levy_WGS/v2/mocha/SCBB_CIRM_ML_WGS.flagged_calls.no15q.tsv\",sep=\"\\t\",col.names=T,quote=F,row.names=F)\n",
    "write.table(summary_df,\"/stanley/stemcell/concordance/ground_truth/SCBB_CIRM_McLean_Levy_WGS/v2/mocha/SCBB_CIRM_ML_WGS.flagged_calls.no15q.summary.tsv\",sep=\"\\t\",col.names=T,row.names=F,quote=F)"
   ]
  },
  {
   "cell_type": "code",
   "execution_count": null,
   "metadata": {
    "vscode": {
     "languageId": "r"
    }
   },
   "outputs": [],
   "source": []
  }
 ],
 "metadata": {
  "kernelspec": {
   "display_name": "R",
   "language": "R",
   "name": "ir"
  },
  "language_info": {
   "codemirror_mode": "r",
   "file_extension": ".r",
   "mimetype": "text/x-r-source",
   "name": "R",
   "pygments_lexer": "r",
   "version": "4.1.0"
  }
 },
 "nbformat": 4,
 "nbformat_minor": 2
}
